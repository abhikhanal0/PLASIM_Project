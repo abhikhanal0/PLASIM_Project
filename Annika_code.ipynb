{
 "cells": [
  {
   "cell_type": "code",
   "execution_count": 1,
   "id": "68f9fccb",
   "metadata": {},
   "outputs": [],
   "source": [
    "import numpy as np\n",
    "import xarray as xr\n",
    "import matplotlib.pyplot as plt\n",
    "import cartopy.crs as ccrs\n",
    "import cartopy.feature as cfeature\n",
    "import matplotlib\n",
    "from scipy.optimize import curve_fit"
   ]
  },
  {
   "cell_type": "code",
   "execution_count": 2,
   "id": "d02b769a",
   "metadata": {},
   "outputs": [],
   "source": [
    "datadir = 'C:/Users/khana/Documents/Masters/Semester 2/Earth and System Modelling/PLASIM/PLASIM Data/'\n",
    "Data = xr.open_dataset(datadir + 'm100_monthly.nc')"
   ]
  },
  {
   "cell_type": "code",
   "execution_count": 3,
   "id": "6a0a9588",
   "metadata": {},
   "outputs": [],
   "source": [
    "GMST = Data.ts.mean('lat').mean('lon')\n",
    "yearlyGMST = np.zeros(30)\n",
    "a = 0\n",
    "m = 0\n",
    "j = 0\n",
    "for i in range(360):\n",
    "    if (a!=12):\n",
    "        m = m+GMST[i]\n",
    "        a = a + 1\n",
    "        if (a == 12):\n",
    "            yearlyGMST[j] = m/12\n",
    "            j = j + 1\n",
    "            m = 0\n",
    "            a = 0\n",
    "years = [i for i in range(30)]"
   ]
  },
  {
   "cell_type": "code",
   "execution_count": 4,
   "id": "8175b25d",
   "metadata": {},
   "outputs": [],
   "source": [
    "def R(t,q1,d1,q2,d2):\n",
    "    return q1*np.exp(-t/d1)+q2*np.exp(-t/d2)\n",
    "\n",
    "def C(tau):\n",
    "    co2 = [285 for i in range(30)]\n",
    "    co2[1] = 185\n",
    "    return co2[tau]\n",
    "\n",
    "def F(tau):\n",
    "    F2x=3.74\n",
    "    Fext=0\n",
    "    return (F2x/np.log(2))*np.log(C(tau)/C(0))+Fext\n",
    "\n",
    "def T(years,q1,d1,q2,d2):\n",
    "    T1=np.zeros(30)\n",
    "    for t in range(len(years)):\n",
    "        for i in range(t):\n",
    "            T1[t] = T1[t]+R(t-i,q1,d1,q2,d2)*F(i)\n",
    "    return T1\n",
    "\n",
    "def temp(time,q1,d1,q2,d2):\n",
    "    return T(time,q1,d1,q2,d2)+yearlyGMST[0]"
   ]
  },
  {
   "cell_type": "code",
   "execution_count": 14,
   "id": "4bbcf909",
   "metadata": {},
   "outputs": [
    {
     "name": "stdout",
     "output_type": "stream",
     "text": [
      "[ 0.          0.         -1.51530263 -1.34997771 -1.21975596 -1.11704262\n",
      " -1.03588672 -0.97162525 -0.92060446 -0.87996138 -0.84745267 -0.82132053\n",
      " -0.8001876  -0.7829746  -0.76883585 -0.7571087  -0.7472739  -0.73892457\n",
      " -0.73174188 -0.72547602 -0.7199312  -0.71495401 -0.71042425 -0.70624771\n",
      " -0.70235055 -0.69867491 -0.69517545 -0.69181661 -0.68857055 -0.68541541]\n"
     ]
    }
   ],
   "source": [
    "print(T(years, 0.33, 239, 0.41, 4.1))"
   ]
  },
  {
   "cell_type": "code",
   "execution_count": null,
   "id": "45564bb1",
   "metadata": {},
   "outputs": [],
   "source": []
  },
  {
   "cell_type": "code",
   "execution_count": null,
   "id": "a3502d72",
   "metadata": {},
   "outputs": [],
   "source": []
  },
  {
   "cell_type": "code",
   "execution_count": null,
   "id": "465f153c",
   "metadata": {},
   "outputs": [],
   "source": []
  },
  {
   "cell_type": "code",
   "execution_count": 9,
   "id": "b6145115",
   "metadata": {},
   "outputs": [],
   "source": [
    "popt1, pcov1 = curve_fit(temp, years, yearlyGMST)"
   ]
  },
  {
   "cell_type": "code",
   "execution_count": 10,
   "id": "cc27d3fe",
   "metadata": {},
   "outputs": [
    {
     "data": {
      "text/plain": [
       "array([0.68486882, 1.79218426, 0.69285424, 1.79218515])"
      ]
     },
     "execution_count": 10,
     "metadata": {},
     "output_type": "execute_result"
    }
   ],
   "source": [
    "popt1"
   ]
  },
  {
   "cell_type": "code",
   "execution_count": 11,
   "id": "6b7c9c1b",
   "metadata": {},
   "outputs": [
    {
     "data": {
      "image/png": "[encoded data removed]",
      "text/plain": [
       "<Figure size 432x288 with 1 Axes>"
      ]
     },
     "metadata": {
      "needs_background": "light"
     },
     "output_type": "display_data"
    }
   ],
   "source": [
    "plt.plot(years, temp(years, *popt1), 'g--', label='fit: q1=%5.3f, d1=%5.3f, q2=%5.3f, d2=%5.3f' % tuple(popt1))\n",
    "plt.plot(years, yearlyGMST, 'b-', label='simulated GMST')\n",
    "plt.xlabel('years')\n",
    "plt.ylabel('temperature')\n",
    "plt.legend()\n",
    "plt.show()"
   ]
  },
  {
   "cell_type": "code",
   "execution_count": 12,
   "id": "6a4ef99d",
   "metadata": {},
   "outputs": [
    {
     "ename": "TypeError",
     "evalue": "object of type 'int' has no len()",
     "output_type": "error",
     "traceback": [
      "\u001b[1;31m---------------------------------------------------------------------------\u001b[0m",
      "\u001b[1;31mTypeError\u001b[0m                                 Traceback (most recent call last)",
      "\u001b[1;32m<ipython-input-12-8e5f2f713fca>\u001b[0m in \u001b[0;36m<module>\u001b[1;34m\u001b[0m\n\u001b[0;32m      1\u001b[0m \u001b[1;32mfor\u001b[0m \u001b[0mi\u001b[0m \u001b[1;32min\u001b[0m \u001b[0mrange\u001b[0m\u001b[1;33m(\u001b[0m\u001b[1;36m30\u001b[0m\u001b[1;33m)\u001b[0m\u001b[1;33m:\u001b[0m\u001b[1;33m\u001b[0m\u001b[1;33m\u001b[0m\u001b[0m\n\u001b[1;32m----> 2\u001b[1;33m     \u001b[0mprint\u001b[0m\u001b[1;33m(\u001b[0m\u001b[0mT\u001b[0m\u001b[1;33m(\u001b[0m\u001b[0mi\u001b[0m\u001b[1;33m,\u001b[0m\u001b[1;36m0.33\u001b[0m\u001b[1;33m,\u001b[0m\u001b[1;36m239\u001b[0m\u001b[1;33m,\u001b[0m\u001b[1;36m0.41\u001b[0m\u001b[1;33m,\u001b[0m\u001b[1;36m4.1\u001b[0m\u001b[1;33m)\u001b[0m\u001b[1;33m)\u001b[0m\u001b[1;33m\u001b[0m\u001b[1;33m\u001b[0m\u001b[0m\n\u001b[0m",
      "\u001b[1;32m<ipython-input-8-25d307c76c61>\u001b[0m in \u001b[0;36mT\u001b[1;34m(years, q1, d1, q2, d2)\u001b[0m\n\u001b[0;32m     14\u001b[0m \u001b[1;32mdef\u001b[0m \u001b[0mT\u001b[0m\u001b[1;33m(\u001b[0m\u001b[0myears\u001b[0m\u001b[1;33m,\u001b[0m\u001b[0mq1\u001b[0m\u001b[1;33m,\u001b[0m\u001b[0md1\u001b[0m\u001b[1;33m,\u001b[0m\u001b[0mq2\u001b[0m\u001b[1;33m,\u001b[0m\u001b[0md2\u001b[0m\u001b[1;33m)\u001b[0m\u001b[1;33m:\u001b[0m\u001b[1;33m\u001b[0m\u001b[1;33m\u001b[0m\u001b[0m\n\u001b[0;32m     15\u001b[0m     \u001b[0mT1\u001b[0m\u001b[1;33m=\u001b[0m\u001b[0mnp\u001b[0m\u001b[1;33m.\u001b[0m\u001b[0mzeros\u001b[0m\u001b[1;33m(\u001b[0m\u001b[1;36m30\u001b[0m\u001b[1;33m)\u001b[0m\u001b[1;33m\u001b[0m\u001b[1;33m\u001b[0m\u001b[0m\n\u001b[1;32m---> 16\u001b[1;33m     \u001b[1;32mfor\u001b[0m \u001b[0mt\u001b[0m \u001b[1;32min\u001b[0m \u001b[0mrange\u001b[0m\u001b[1;33m(\u001b[0m\u001b[0mlen\u001b[0m\u001b[1;33m(\u001b[0m\u001b[0myears\u001b[0m\u001b[1;33m)\u001b[0m\u001b[1;33m)\u001b[0m\u001b[1;33m:\u001b[0m\u001b[1;33m\u001b[0m\u001b[1;33m\u001b[0m\u001b[0m\n\u001b[0m\u001b[0;32m     17\u001b[0m         \u001b[1;32mfor\u001b[0m \u001b[0mi\u001b[0m \u001b[1;32min\u001b[0m \u001b[0mrange\u001b[0m\u001b[1;33m(\u001b[0m\u001b[0mt\u001b[0m\u001b[1;33m)\u001b[0m\u001b[1;33m:\u001b[0m\u001b[1;33m\u001b[0m\u001b[1;33m\u001b[0m\u001b[0m\n\u001b[0;32m     18\u001b[0m             \u001b[0mT1\u001b[0m\u001b[1;33m[\u001b[0m\u001b[0mt\u001b[0m\u001b[1;33m]\u001b[0m \u001b[1;33m=\u001b[0m \u001b[0mT1\u001b[0m\u001b[1;33m[\u001b[0m\u001b[0mt\u001b[0m\u001b[1;33m]\u001b[0m\u001b[1;33m+\u001b[0m\u001b[0mR\u001b[0m\u001b[1;33m(\u001b[0m\u001b[0mt\u001b[0m\u001b[1;33m-\u001b[0m\u001b[0mi\u001b[0m\u001b[1;33m,\u001b[0m\u001b[0mq1\u001b[0m\u001b[1;33m,\u001b[0m\u001b[0md1\u001b[0m\u001b[1;33m,\u001b[0m\u001b[0mq2\u001b[0m\u001b[1;33m,\u001b[0m\u001b[0md2\u001b[0m\u001b[1;33m)\u001b[0m\u001b[1;33m*\u001b[0m\u001b[0mF\u001b[0m\u001b[1;33m(\u001b[0m\u001b[0mi\u001b[0m\u001b[1;33m)\u001b[0m\u001b[1;33m\u001b[0m\u001b[1;33m\u001b[0m\u001b[0m\n",
      "\u001b[1;31mTypeError\u001b[0m: object of type 'int' has no len()"
     ]
    }
   ],
   "source": [
    "for i in range(30):\n",
    "    print(T(i,0.33,239,0.41,4.1))"
   ]
  },
  {
   "cell_type": "code",
   "execution_count": null,
   "id": "3975fe8f",
   "metadata": {},
   "outputs": [],
   "source": []
  },
  {
   "cell_type": "code",
   "execution_count": null,
   "id": "b856b985",
   "metadata": {},
   "outputs": [],
   "source": []
  }
 ],
 "metadata": {
  "kernelspec": {
   "display_name": "Python 3",
   "language": "python",
   "name": "python3"
  },
  "language_info": {
   "codemirror_mode": {
    "name": "ipython",
    "version": 3
   },
   "file_extension": ".py",
   "mimetype": "text/x-python",
   "name": "python",
   "nbconvert_exporter": "python",
   "pygments_lexer": "ipython3",
   "version": "3.8.8"
  }
 },
 "nbformat": 4,
 "nbformat_minor": 5
}
