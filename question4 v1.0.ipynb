{
 "cells": [
  {
   "cell_type": "code",
   "execution_count": 1,
   "id": "772ffdc3",
   "metadata": {},
   "outputs": [],
   "source": [
    "import numpy as np\n",
    "import xarray as xr\n",
    "import matplotlib.pyplot as plt\n",
    "import cartopy.crs as ccrs\n",
    "import cartopy.feature as cfeature\n",
    "import matplotlib"
   ]
  },
  {
   "cell_type": "code",
   "execution_count": null,
   "id": "23d75131",
   "metadata": {},
   "outputs": [],
   "source": [
    "datadir = 'C:/Users/khana/Documents/Masters/Semester 2/Earth and System Modelling/PLASIM/PLASIM Data/'\n",
    "p100 = xr.open_dataset(datadir + 'p100_monthly.nc').mean('time')\n",
    "m100 = xr.open_dataset(datadir + 'm100_monthly.nc').mean('time')\n",
    "p500 = xr.open_dataset(datadir + 'p500_monthly.nc').mean('time')\n",
    "preind_atm = xr.open_dataset(datadir + 'preind_atm_monthly.nc').mean('time')\n",
    "preind_ocean = xr.open_dataset(datadir + 'preind_ocean_monthly.nc').mean('time')"
   ]
  },
  {
   "cell_type": "code",
   "execution_count": null,
   "id": "341d8b97",
   "metadata": {},
   "outputs": [],
   "source": [
    "#defining constants\n",
    "F_0 = 3.74/np.log(2)\n",
    "C_0 = 285\n",
    "F = F_0 * np.log(385/C_0)\n",
    "\n",
    "q1 = 0.33\n",
    "d1 = 239\n",
    "q2 = 0.41\n",
    "d2 = 4.1"
   ]
  },
  {
   "cell_type": "code",
   "execution_count": null,
   "id": "dbed2644",
   "metadata": {},
   "outputs": [],
   "source": [
    "F"
   ]
  },
  {
   "cell_type": "code",
   "execution_count": 2,
   "id": "27d989f7",
   "metadata": {},
   "outputs": [],
   "source": [
    "time = np.linspace(0,10,11)"
   ]
  },
  {
   "cell_type": "code",
   "execution_count": 3,
   "id": "7ebf6a6e",
   "metadata": {},
   "outputs": [],
   "source": [
    "dx = np.zeros(shape=(len(time),len(time)))"
   ]
  },
  {
   "cell_type": "code",
   "execution_count": 6,
   "id": "0eca5ed5",
   "metadata": {},
   "outputs": [
    {
     "ename": "AttributeError",
     "evalue": "'numpy.ndarray' object has no attribute 'append'",
     "output_type": "error",
     "traceback": [
      "\u001b[1;31m---------------------------------------------------------------------------\u001b[0m",
      "\u001b[1;31mAttributeError\u001b[0m                            Traceback (most recent call last)",
      "\u001b[1;32m<ipython-input-6-cf6577a8d734>\u001b[0m in \u001b[0;36m<module>\u001b[1;34m\u001b[0m\n\u001b[0;32m      1\u001b[0m \u001b[1;32mfor\u001b[0m \u001b[0mi\u001b[0m \u001b[1;32min\u001b[0m \u001b[0mrange\u001b[0m\u001b[1;33m(\u001b[0m\u001b[0mlen\u001b[0m\u001b[1;33m(\u001b[0m\u001b[0mtime\u001b[0m\u001b[1;33m)\u001b[0m\u001b[1;33m)\u001b[0m\u001b[1;33m:\u001b[0m\u001b[1;33m\u001b[0m\u001b[1;33m\u001b[0m\u001b[0m\n\u001b[1;32m----> 2\u001b[1;33m     \u001b[0mdx\u001b[0m\u001b[1;33m.\u001b[0m\u001b[0mappend\u001b[0m\u001b[1;33m(\u001b[0m\u001b[0mi\u001b[0m\u001b[1;33m)\u001b[0m\u001b[1;33m\u001b[0m\u001b[1;33m\u001b[0m\u001b[0m\n\u001b[0m",
      "\u001b[1;31mAttributeError\u001b[0m: 'numpy.ndarray' object has no attribute 'append'"
     ]
    }
   ],
   "source": [
    "for i in range(len(time)):\n",
    "    dx.append(i)"
   ]
  },
  {
   "cell_type": "code",
   "execution_count": null,
   "id": "8fd6f658",
   "metadata": {},
   "outputs": [],
   "source": [
    "#defining R\n",
    "def radiative_forcing(dx,q1,d1,q2,d2):\n",
    "    return q1*np.exp(-dx/d1) + q2*np.exp(-dx/d2)"
   ]
  },
  {
   "cell_type": "code",
   "execution_count": null,
   "id": "a0247fe5",
   "metadata": {},
   "outputs": [],
   "source": []
  },
  {
   "cell_type": "code",
   "execution_count": null,
   "id": "0b0f4e09",
   "metadata": {},
   "outputs": [],
   "source": [
    "temp = radiative_forcing(x,q1,d1,q2,d2) * F"
   ]
  },
  {
   "cell_type": "code",
   "execution_count": null,
   "id": "879effef",
   "metadata": {},
   "outputs": [],
   "source": [
    "surf_rad_preind = preind_atm.rss + preind_atm.rls"
   ]
  },
  {
   "cell_type": "code",
   "execution_count": null,
   "id": "6ca1dd12",
   "metadata": {},
   "outputs": [],
   "source": [
    "surf_rad_p100 = p100.rss + p100.rls\n",
    "atm_rad_p100 = p100.rst + p100.rlut"
   ]
  },
  {
   "cell_type": "code",
   "execution_count": null,
   "id": "4bd7b1eb",
   "metadata": {},
   "outputs": [],
   "source": [
    "net_rad_p100 = surf_rad_p100 - atm_rad_p100"
   ]
  },
  {
   "cell_type": "code",
   "execution_count": null,
   "id": "053fbdf7",
   "metadata": {},
   "outputs": [],
   "source": [
    "fig = plt.figure(figsize=(12, 5))\n",
    "ax = fig.add_subplot(1, 1, 1, projection=ccrs.Robinson(central_longitude=180))\n",
    "\n",
    "ax.coastlines(resolution='50m')\n",
    "ax.add_feature(cfeature.LAND)\n",
    "surf_rad_p100.plot(ax=ax, transform=ccrs.PlateCarree());"
   ]
  },
  {
   "cell_type": "code",
   "execution_count": null,
   "id": "0e84b91c",
   "metadata": {},
   "outputs": [],
   "source": [
    "fig = plt.figure(figsize=(12, 5))\n",
    "ax = fig.add_subplot(1, 1, 1, projection=ccrs.Robinson(central_longitude=180))\n",
    "\n",
    "ax.coastlines(resolution='50m')\n",
    "ax.add_feature(cfeature.LAND)\n",
    "atm_rad_p100.plot(ax=ax, transform=ccrs.PlateCarree());"
   ]
  },
  {
   "cell_type": "code",
   "execution_count": null,
   "id": "6dfaeb6c",
   "metadata": {},
   "outputs": [],
   "source": [
    "fig = plt.figure(figsize=(12, 5))\n",
    "ax = fig.add_subplot(1, 1, 1, projection=ccrs.Robinson(central_longitude=180))\n",
    "\n",
    "ax.coastlines(resolution='50m')\n",
    "ax.add_feature(cfeature.LAND)\n",
    "net_rad_p100.plot(ax=ax, transform=ccrs.PlateCarree());"
   ]
  },
  {
   "cell_type": "code",
   "execution_count": null,
   "id": "c74147f7",
   "metadata": {},
   "outputs": [],
   "source": [
    "fig = plt.figure(figsize=(12, 5))\n",
    "ax = fig.add_subplot(1, 1, 1, projection=ccrs.Robinson(central_longitude=180))\n",
    "\n",
    "ax.coastlines(resolution='50m')\n",
    "ax.add_feature(cfeature.LAND)\n",
    "(surf_rad_preind-surf_rad_p100).plot(ax=ax, transform=ccrs.PlateCarree());"
   ]
  },
  {
   "cell_type": "code",
   "execution_count": null,
   "id": "9e5ecce4",
   "metadata": {},
   "outputs": [],
   "source": []
  }
 ],
 "metadata": {
  "kernelspec": {
   "display_name": "Python 3",
   "language": "python",
   "name": "python3"
  },
  "language_info": {
   "codemirror_mode": {
    "name": "ipython",
    "version": 3
   },
   "file_extension": ".py",
   "mimetype": "text/x-python",
   "name": "python",
   "nbconvert_exporter": "python",
   "pygments_lexer": "ipython3",
   "version": "3.8.8"
  }
 },
 "nbformat": 4,
 "nbformat_minor": 5
}
